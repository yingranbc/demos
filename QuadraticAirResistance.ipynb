{
 "cells": [
  {
   "cell_type": "markdown",
   "metadata": {},
   "source": [
    "This may be the first time you see a Jupyter notebook: Click your mouse anywhere in the code box below, and then click the \"Run\" button above. Be patient, after several minutes the trajactory for the quadratic air-friction problem will be plotted in an interactive fashion. This demo is to show you how easy it is to solve differential equations numerically using open-source softwares."
   ]
  },
  {
   "cell_type": "code",
   "execution_count": null,
   "metadata": {},
   "outputs": [],
   "source": [
    "using DifferentialEquations;\n",
    "using Plots;\n",
    "\n",
    "#Quadratic Air Resistance \\vec{f}= -c*|v|*\\vec{v}\n",
    "function QuadAirResistance!(du,u,p,t)\n",
    "                                   #u[1]=x(t),u[2]=y[t],u[3]=x'(t),u[4]=y'(t)\n",
    "        m = 1.;                    # mass[kg]\n",
    "        g = 9.81;                  # gravitational acceleration [m/s²]\n",
    "    coeff = p;                     # friction coefficient c\n",
    "    du[1] = u[3];                              # x'(t)\n",
    "    du[2] = u[4];                              # y'(t)\n",
    "    du[3] = -coeff/m * sqrt(u[3]^2+u[4]^2) * u[3];    # x''(t) = -c/m * sqrt(x'^2+y'^2) * x'\n",
    "    du[4] = -g-coeff/m * sqrt(u[3]^2+u[4]^2) * u[4];   # x''(t) = g-c/m * sqrt(x'^2+y'^2) * y'\n",
    "end;\n",
    "\n",
    "#plot the numerical solution of the trajectory of the quadratic air-resistance problem.\n",
    "function PlotQuadAirResistanceTraj(vx0,vy0,c) #input: initial velocity [vx0,vy0], quadratic air-resistance coeff. c.\n",
    "x0 = [0.,0.];                           # initial position\n",
    "v0 = [vx0,vy0] ;                        # initial velocity [m/s]\n",
    "u0 = vcat(x0,v0);                       # initial state vector\n",
    "tfinal= 0.5;                            # final time[s]\n",
    "tspan = (0.0,tfinal);                   # time interval\n",
    "\n",
    "prob = ODEProblem(QuadAirResistance!,u0,tspan,c) # air resistance coefficient c: friction force=-c*|v|*\\vec{v}\n",
    "\n",
    "sol = solve(prob);\n",
    "\n",
    "t = 0:(tfinal/40):tfinal\n",
    "res = sol(t);\n",
    "x=res[1,:];\n",
    "y=res[2,:];\n",
    "plot(x, y, aspect_ratio=:equal,xlims=[0,0.7],ylims=[-0.4,0.4],label=\"trajectory\")\n",
    "end;\n",
    "\n",
    "using Interact;\n",
    "@manipulate for InitialVelocityX in 0:0.1:4, InitialVelocityY in 0:0.1:4, AirResistanceCoefficient in 0:0.1:4\n",
    "        PlotQuadAirResistanceTraj(InitialVelocityX,InitialVelocityY,AirResistanceCoefficient)\n",
    "    end #plot trajactory for different parameters"
   ]
  }
 ],
 "metadata": {
  "@webio": {
   "lastCommId": "b0e4cd36d42047c18f09e83445ee0760",
   "lastKernelId": "07873e14-8f03-46c4-88fa-616a69d176ea"
  },
  "kernelspec": {
   "display_name": "Julia 1.5.1",
   "language": "julia",
   "name": "julia-1.5"
  },
  "language_info": {
   "file_extension": ".jl",
   "mimetype": "application/julia",
   "name": "julia",
   "version": "1.5.1"
  }
 },
 "nbformat": 4,
 "nbformat_minor": 4
}
