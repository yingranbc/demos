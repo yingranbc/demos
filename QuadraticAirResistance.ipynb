{
 "cells": [
  {
   "cell_type": "code",
   "execution_count": null,
   "metadata": {},
   "outputs": [
    {
     "data": {
      "text/html": [
       "<script>\n",
       "// Immediately-invoked-function-expression to avoid global variables.\n",
       "(function() {\n",
       "    var warning_div = document.getElementById(\"webio-warning-17562738836873235154\");\n",
       "    var hide = function () {\n",
       "        var script = document.getElementById(\"webio-setup-15766071095109011697\");\n",
       "        var parent = script && script.parentElement;\n",
       "        var grandparent = parent && parent.parentElement;\n",
       "        if (grandparent) {\n",
       "            grandparent.style.display = \"none\";\n",
       "        }\n",
       "        warning_div.style.display = \"none\";\n",
       "    };\n",
       "    if (typeof Jupyter !== \"undefined\") {\n",
       "        console.log(\"WebIO detected Jupyter notebook environment.\");\n",
       "        // Jupyter notebook.\n",
       "        var extensions = (\n",
       "            Jupyter\n",
       "            && Jupyter.notebook.config.data\n",
       "            && Jupyter.notebook.config.data.load_extensions\n",
       "        );\n",
       "        if (extensions && extensions[\"webio-jupyter-notebook\"]) {\n",
       "            // Extension already loaded.\n",
       "            console.log(\"Jupyter WebIO nbextension detected; not loading ad-hoc.\");\n",
       "            hide();\n",
       "            return;\n",
       "        }\n",
       "    } else if (window.location.pathname.includes(\"/lab\")) {\n",
       "        // Guessing JupyterLa\n",
       "        console.log(\"Jupyter Lab detected; make sure the @webio/jupyter-lab-provider labextension is installed.\");\n",
       "        hide();\n",
       "        return;\n",
       "    }\n",
       "})();\n",
       "\n",
       "</script>\n",
       "<p\n",
       "    id=\"webio-warning-17562738836873235154\"\n",
       "    class=\"output_text output_stderr\"\n",
       "    style=\"padding: 1em; font-weight: bold;\"\n",
       ">\n",
       "    Unable to load WebIO. Please make sure WebIO works for your Jupyter client.\n",
       "    For troubleshooting, please see <a href=\"https://juliagizmos.github.io/WebIO.jl/latest/providers/ijulia/\">\n",
       "    the WebIO/IJulia documentation</a>.\n",
       "    <!-- TODO: link to installation docs. -->\n",
       "</p>\n"
      ],
      "text/plain": [
       "HTML{String}(\"<script>\\n// Immediately-invoked-function-expression to avoid global variables.\\n(function() {\\n    var warning_div = document.getElementById(\\\"webio-warning-17562738836873235154\\\");\\n    var hide = function () {\\n        var script = document.getElementById(\\\"webio-setup-15766071095109011697\\\");\\n        var parent = script && script.parentElement;\\n        var grandparent = parent && parent.parentElement;\\n        if (grandparent) {\\n            grandparent.style.display = \\\"none\\\";\\n        }\\n        warning_div.style.display = \\\"none\\\";\\n    };\\n    if (typeof Jupyter !== \\\"undefined\\\") {\\n        console.log(\\\"WebIO detected Jupyter notebook environment.\\\");\\n        // Jupyter notebook.\\n        var extensions = (\\n            Jupyter\\n            && Jupyter.notebook.config.data\\n            && Jupyter.notebook.config.data.load_extensions\\n        );\\n        if (extensions && extensions[\\\"webio-jupyter-notebook\\\"]) {\\n            // Extension already loaded.\\n            console.log(\\\"Jupyter WebIO nbextension detected; not loading ad-hoc.\\\");\\n            hide();\\n            return;\\n        }\\n    } else if (window.location.pathname.includes(\\\"/lab\\\")) {\\n        // Guessing JupyterLa\\n        console.log(\\\"Jupyter Lab detected; make sure the @webio/jupyter-lab-provider labextension is installed.\\\");\\n        hide();\\n        return;\\n    }\\n})();\\n\\n</script>\\n<p\\n    id=\\\"webio-warning-17562738836873235154\\\"\\n    class=\\\"output_text output_stderr\\\"\\n    style=\\\"padding: 1em; font-weight: bold;\\\"\\n>\\n    Unable to load WebIO. Please make sure WebIO works for your Jupyter client.\\n    For troubleshooting, please see <a href=\\\"https://juliagizmos.github.io/WebIO.jl/latest/providers/ijulia/\\\">\\n    the WebIO/IJulia documentation</a>.\\n    <!-- TODO: link to installation docs. -->\\n</p>\\n\")"
      ]
     },
     "metadata": {},
     "output_type": "display_data"
    }
   ],
   "source": [
    "using DifferentialEquations;\n",
    "using Plots;\n",
    "\n",
    "#Quadratic Air Resistance \\vec{f}= -c*|v|*\\vec{v}\n",
    "function QuadAirResistance!(du,u,p,t)\n",
    "                                   #u[1]=x(t),u[2]=y[t],u[3]=x'(t),u[4]=y'(t)\n",
    "        m = 1.;                    # mass[kg]\n",
    "        g = 9.81;                  # gravitational acceleration [m/s²]\n",
    "    coeff = p;                     # friction coefficient c\n",
    "    du[1] = u[3];                              # x'(t)\n",
    "    du[2] = u[4];                              # y'(t)\n",
    "    du[3] = -coeff/m * sqrt(u[3]^2+u[4]^2) * u[3];    # x''(t) = -c/m * sqrt(x'^2+y'^2) * x'\n",
    "    du[4] = -g-coeff/m * sqrt(u[3]^2+u[4]^2) * u[4];   # x''(t) = g-c/m * sqrt(x'^2+y'^2) * y'\n",
    "end;\n",
    "\n",
    "#plot the numerical solution of the trajectory of the quadratic air-resistance problem.\n",
    "function PlotQuadAirResistanceTraj(vx0,vy0,c) #input: initial velocity [vx0,vy0], quadratic air-resistance coeff. c.\n",
    "x0 = [0.,0.];                           # initial position\n",
    "v0 = [vx0,vy0] ;                        # initial velocity [m/s]\n",
    "u0 = vcat(x0,v0);                       # initial state vector\n",
    "tfinal= 0.5;                            # final time[s]\n",
    "tspan = (0.0,tfinal);                   # time interval\n",
    "\n",
    "prob = ODEProblem(QuadAirResistance!,u0,tspan,c) # air resistance coefficient c: friction force=-c*|v|*\\vec{v}\n",
    "\n",
    "sol = solve(prob);\n",
    "\n",
    "t = 0:(tfinal/40):tfinal\n",
    "res = sol(t);\n",
    "x=res[1,:];\n",
    "y=res[2,:];\n",
    "plot(x, y, aspect_ratio=:equal,xlims=[0,0.7],ylims=[-0.4,0.4],label=\"trajectory\")\n",
    "end;\n",
    "\n",
    "using Interact;\n",
    "@manipulate for InitialVelocityX in 0:0.1:4, InitialVelocityY in 0:0.1:4, AirResistanceCoefficient in 0:0.1:4\n",
    "        PlotQuadAirResistanceTraj(InitialVelocityX,InitialVelocityY,AirResistanceCoefficient)\n",
    "    end #plot trajactory for different parameters"
   ]
  },
  {
   "cell_type": "code",
   "execution_count": null,
   "metadata": {},
   "outputs": [],
   "source": []
  }
 ],
 "metadata": {
  "@webio": {
   "lastCommId": "704dfe466682402686dffcbda06e0934",
   "lastKernelId": "a2b30c1d-9623-4a5b-8b2a-b1958c607852"
  },
  "kernelspec": {
   "display_name": "Julia 1.5.1",
   "language": "julia",
   "name": "julia-1.5"
  },
  "language_info": {
   "file_extension": ".jl",
   "mimetype": "application/julia",
   "name": "julia",
   "version": "1.5.1"
  }
 },
 "nbformat": 4,
 "nbformat_minor": 4
}
